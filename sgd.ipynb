{
 "cells": [
  {
   "cell_type": "markdown",
   "id": "d00c0df6-3799-48b6-8666-0fe1de28a9a4",
   "metadata": {
    "tags": []
   },
   "source": [
    "# Stochastic Gradient Descent"
   ]
  },
  {
   "cell_type": "markdown",
   "id": "658cbbf7-3242-4364-a6dd-ece66be93ec8",
   "metadata": {
    "tags": []
   },
   "source": [
    "## Introduction\n",
    "\n",
    "I previously implemented full-batch gradient descent (see Adaline.ipynb). A problem with full-batch GD is that it is computationally expensive to run when your dataset is large. This is due to the fact that we were taking a step in the direction of the negative gradient using the entire dataset on each epoch. With SGD, the parameters are updated incrementally for each training example. "
   ]
  },
  {
   "cell_type": "markdown",
   "id": "c206d3ae-927c-4aae-a7fb-1870664971fa",
   "metadata": {},
   "source": [
    "## Algorithm\n",
    "\n",
    "With full-batch gradient descent, the gradients were $\\frac{\\partial L}{\\partial w_j}=-\\frac{2}{n}\\sum_i(y^{(i)}-\\sigma(z^{(i)}))x_j^{(i)}$ and $\\frac{\\partial L}{\\partial b}=-\\frac{2}{n}\\sum_i(y^{(i)}-\\sigma(z^{(i)}))$. Since SGD deals with one training example at a time, the new gradients are $\\frac{\\partial L}{\\partial w_j}=-2(y-\\sigma(z))x$ and $\\frac{\\partial L}{\\partial b}=-2(y-\\sigma(z))$. The loss function for full-batch GD was $L(w,b)=\\frac{1}{2n}\\sum_{i=1}^n(y^{(i)}-\\sigma(z^{(i)}))^2$, so for SGD it's $L(w,b)=\\frac{1}{2}(y-\\sigma(z))^2$.\n",
    "\n",
    "I will now briefly explain some of the code in the implementation section to clear any potential confusion.\n",
    "\n",
    "method shuffle: Randomly shuffles the data for each epoch to avoid repetative cycles that can emerge. This randomness is why we call this algorithm stochastic. \n",
    "\n",
    "method initialize_weights: Initializes weights to small random numbers. Random seed is an input so that the code is reproducible. \n",
    "\n",
    "method fit: This is where everything comes together. We first intialize our weights and then suffle the data. In the inner for loop, we loop through each training example in the shuffled data, and then append the loss associated with each training example. To see how well we preformed on the epoch, we compute the average loss for the epoch. \n"
   ]
  },
  {
   "cell_type": "markdown",
   "id": "5a5f6557-4be5-465a-b5d6-2dd29c36efa0",
   "metadata": {},
   "source": [
    "## Implementation"
   ]
  },
  {
   "cell_type": "code",
   "execution_count": 389,
   "id": "bae11343-309c-47b6-b4db-a441ad2d2b47",
   "metadata": {
    "tags": []
   },
   "outputs": [],
   "source": [
    "import numpy as np\n",
    "import pandas as pd\n",
    "import matplotlib.pyplot as plt\n",
    "\n",
    "class AdalineSGD:\n",
    "    \"\"\"ADAptive LInear NEuron classifier.\n",
    "\n",
    "    Parameters\n",
    "    ------------\n",
    "    eta : float\n",
    "      Learning rate (between 0.0 and 1.0)\n",
    "    n_iter : int\n",
    "      Passes over the training dataset.\n",
    "    shuffle : bool (default: True)\n",
    "      Shuffles training data every epoch if True to prevent cycles.\n",
    "    random_state : int\n",
    "      Random number generator seed for random weight\n",
    "      initialization.\n",
    "\n",
    "\n",
    "    Attributes\n",
    "    -----------\n",
    "    w_ : 1d-array\n",
    "      Weights after fitting.\n",
    "    b_ : Scalar\n",
    "        Bias unit after fitting.\n",
    "    losses_ : list\n",
    "      Mean squared error loss function value averaged over all\n",
    "      training examples in each epoch.\n",
    "\n",
    "        \n",
    "    \"\"\"\n",
    "    def __init__(self, eta=0.01, n_iter=10, shuffle=True, random_state=None):\n",
    "        self.eta = eta\n",
    "        self.n_iter = n_iter\n",
    "        self.shuffle = shuffle\n",
    "        self.random_state = random_state\n",
    "        \n",
    "    def fit(self, X, y):\n",
    "        \"\"\" Fit training data.\n",
    "\n",
    "        Parameters\n",
    "        ----------\n",
    "        X : {array-like}, shape = [n_examples, n_features]\n",
    "          Training vectors, where n_examples is the number of examples and\n",
    "          n_features is the number of features.\n",
    "        y : array-like, shape = [n_examples]\n",
    "          Target values.\n",
    "\n",
    "        Returns\n",
    "        -------\n",
    "        self : object\n",
    "\n",
    "        \"\"\"\n",
    "        self._initialize_weights(X.shape[1])\n",
    "        self.losses_ = []\n",
    "        for i in range(self.n_iter):\n",
    "            if self.shuffle:\n",
    "                X, y = self._shuffle(X, y)\n",
    "            losses = []\n",
    "            for xi, target in zip(X, y):\n",
    "                losses.append(self._update_weights(xi, target))\n",
    "            avg_loss = np.mean(losses)\n",
    "            self.losses_.append(avg_loss)\n",
    "        return self\n",
    "\n",
    "\n",
    "    def _shuffle(self, X, y):\n",
    "        \"\"\"Shuffle training data\"\"\"\n",
    "        r = self.rgen.permutation(len(y))\n",
    "        return X[r], y[r]\n",
    "    \n",
    "    def _initialize_weights(self, m):\n",
    "        \"\"\"Initialize weights to small random numbers\"\"\"\n",
    "        self.rgen = np.random.RandomState(self.random_state)\n",
    "        self.w_ = self.rgen.normal(loc=0.0, scale=0.01, size=m)\n",
    "        self.b_ = np.float_(0.)\n",
    "        \n",
    "    def _update_weights(self, xi, target):\n",
    "        \"\"\"Apply Adaline learning rule to update the weights\"\"\"\n",
    "        output = self.activation(self.net_input(xi))\n",
    "        error = (target - output)\n",
    "        self.w_ += self.eta * 2.0 * xi * (error)\n",
    "        self.b_ += self.eta * 2.0 * error\n",
    "        loss = error**2\n",
    "        return loss\n",
    "    \n",
    "    def net_input(self, X):\n",
    "        \"\"\"Calculate net input\"\"\"\n",
    "        return np.dot(X, self.w_) + self.b_\n",
    "\n",
    "    def activation(self, X):\n",
    "        \"\"\"Compute linear activation\"\"\"\n",
    "        return X\n",
    "\n",
    "    def predict(self, X):\n",
    "        \"\"\"Return class label after unit step\"\"\"\n",
    "        return np.where(self.activation(self.net_input(X)) >= 0.5, 1, 0)"
   ]
  },
  {
   "cell_type": "markdown",
   "id": "12b9d0ef-0600-4760-8474-19b78226a9b3",
   "metadata": {},
   "source": [
    "## Training"
   ]
  },
  {
   "cell_type": "code",
   "execution_count": 310,
   "id": "cdca2dbf-1651-43f2-8656-5d6b810b6f70",
   "metadata": {
    "tags": []
   },
   "outputs": [
    {
     "data": {
      "text/html": [
       "<div>\n",
       "<style scoped>\n",
       "    .dataframe tbody tr th:only-of-type {\n",
       "        vertical-align: middle;\n",
       "    }\n",
       "\n",
       "    .dataframe tbody tr th {\n",
       "        vertical-align: top;\n",
       "    }\n",
       "\n",
       "    .dataframe thead th {\n",
       "        text-align: right;\n",
       "    }\n",
       "</style>\n",
       "<table border=\"1\" class=\"dataframe\">\n",
       "  <thead>\n",
       "    <tr style=\"text-align: right;\">\n",
       "      <th></th>\n",
       "      <th>0</th>\n",
       "      <th>1</th>\n",
       "      <th>2</th>\n",
       "      <th>3</th>\n",
       "      <th>4</th>\n",
       "    </tr>\n",
       "  </thead>\n",
       "  <tbody>\n",
       "    <tr>\n",
       "      <th>0</th>\n",
       "      <td>5.1</td>\n",
       "      <td>3.5</td>\n",
       "      <td>1.4</td>\n",
       "      <td>0.2</td>\n",
       "      <td>Iris-setosa</td>\n",
       "    </tr>\n",
       "    <tr>\n",
       "      <th>1</th>\n",
       "      <td>4.9</td>\n",
       "      <td>3.0</td>\n",
       "      <td>1.4</td>\n",
       "      <td>0.2</td>\n",
       "      <td>Iris-setosa</td>\n",
       "    </tr>\n",
       "    <tr>\n",
       "      <th>2</th>\n",
       "      <td>4.7</td>\n",
       "      <td>3.2</td>\n",
       "      <td>1.3</td>\n",
       "      <td>0.2</td>\n",
       "      <td>Iris-setosa</td>\n",
       "    </tr>\n",
       "    <tr>\n",
       "      <th>3</th>\n",
       "      <td>4.6</td>\n",
       "      <td>3.1</td>\n",
       "      <td>1.5</td>\n",
       "      <td>0.2</td>\n",
       "      <td>Iris-setosa</td>\n",
       "    </tr>\n",
       "    <tr>\n",
       "      <th>4</th>\n",
       "      <td>5.0</td>\n",
       "      <td>3.6</td>\n",
       "      <td>1.4</td>\n",
       "      <td>0.2</td>\n",
       "      <td>Iris-setosa</td>\n",
       "    </tr>\n",
       "  </tbody>\n",
       "</table>\n",
       "</div>"
      ],
      "text/plain": [
       "     0    1    2    3            4\n",
       "0  5.1  3.5  1.4  0.2  Iris-setosa\n",
       "1  4.9  3.0  1.4  0.2  Iris-setosa\n",
       "2  4.7  3.2  1.3  0.2  Iris-setosa\n",
       "3  4.6  3.1  1.5  0.2  Iris-setosa\n",
       "4  5.0  3.6  1.4  0.2  Iris-setosa"
      ]
     },
     "execution_count": 310,
     "metadata": {},
     "output_type": "execute_result"
    }
   ],
   "source": [
    "df = pd.read_csv(\"https://archive.ics.uci.edu/ml/machine-learning-databases/iris/iris.data\",header=None) \n",
    "df.head()\n"
   ]
  },
  {
   "cell_type": "code",
   "execution_count": 391,
   "id": "593e185a-9c58-4ec2-9824-389f1699d258",
   "metadata": {
    "tags": []
   },
   "outputs": [],
   "source": [
    "# filtering two species\n",
    "df = df[(df.iloc[:,4]==\"Iris-setosa\") | (df.iloc[:,4]==\"Iris-versicolor\")] \n",
    "# extract sepal length and petal length so we can visualize the decision boundary\n",
    "X = df.iloc[:,[0,2]].values\n",
    "# Creating the two classes\n",
    "y = np.where(df.iloc[:,4]==\"Iris-setosa\",0,1)\n",
    "\n"
   ]
  },
  {
   "cell_type": "code",
   "execution_count": 470,
   "id": "6570478e-789a-4f6d-a429-fdb9d06312da",
   "metadata": {
    "tags": []
   },
   "outputs": [
    {
     "data": {
      "text/html": [
       "<div>\n",
       "<style scoped>\n",
       "    .dataframe tbody tr th:only-of-type {\n",
       "        vertical-align: middle;\n",
       "    }\n",
       "\n",
       "    .dataframe tbody tr th {\n",
       "        vertical-align: top;\n",
       "    }\n",
       "\n",
       "    .dataframe thead th {\n",
       "        text-align: right;\n",
       "    }\n",
       "</style>\n",
       "<table border=\"1\" class=\"dataframe\">\n",
       "  <thead>\n",
       "    <tr style=\"text-align: right;\">\n",
       "      <th></th>\n",
       "      <th>0</th>\n",
       "      <th>2</th>\n",
       "      <th>y</th>\n",
       "    </tr>\n",
       "  </thead>\n",
       "  <tbody>\n",
       "    <tr>\n",
       "      <th>0</th>\n",
       "      <td>5.1</td>\n",
       "      <td>1.4</td>\n",
       "      <td>0</td>\n",
       "    </tr>\n",
       "    <tr>\n",
       "      <th>1</th>\n",
       "      <td>4.9</td>\n",
       "      <td>1.4</td>\n",
       "      <td>0</td>\n",
       "    </tr>\n",
       "    <tr>\n",
       "      <th>2</th>\n",
       "      <td>4.7</td>\n",
       "      <td>1.3</td>\n",
       "      <td>0</td>\n",
       "    </tr>\n",
       "    <tr>\n",
       "      <th>3</th>\n",
       "      <td>4.6</td>\n",
       "      <td>1.5</td>\n",
       "      <td>0</td>\n",
       "    </tr>\n",
       "    <tr>\n",
       "      <th>4</th>\n",
       "      <td>5.0</td>\n",
       "      <td>1.4</td>\n",
       "      <td>0</td>\n",
       "    </tr>\n",
       "    <tr>\n",
       "      <th>...</th>\n",
       "      <td>...</td>\n",
       "      <td>...</td>\n",
       "      <td>...</td>\n",
       "    </tr>\n",
       "    <tr>\n",
       "      <th>95</th>\n",
       "      <td>5.7</td>\n",
       "      <td>4.2</td>\n",
       "      <td>1</td>\n",
       "    </tr>\n",
       "    <tr>\n",
       "      <th>96</th>\n",
       "      <td>5.7</td>\n",
       "      <td>4.2</td>\n",
       "      <td>1</td>\n",
       "    </tr>\n",
       "    <tr>\n",
       "      <th>97</th>\n",
       "      <td>6.2</td>\n",
       "      <td>4.3</td>\n",
       "      <td>1</td>\n",
       "    </tr>\n",
       "    <tr>\n",
       "      <th>98</th>\n",
       "      <td>5.1</td>\n",
       "      <td>3.0</td>\n",
       "      <td>1</td>\n",
       "    </tr>\n",
       "    <tr>\n",
       "      <th>99</th>\n",
       "      <td>5.7</td>\n",
       "      <td>4.1</td>\n",
       "      <td>1</td>\n",
       "    </tr>\n",
       "  </tbody>\n",
       "</table>\n",
       "<p>100 rows × 3 columns</p>\n",
       "</div>"
      ],
      "text/plain": [
       "      0    2  y\n",
       "0   5.1  1.4  0\n",
       "1   4.9  1.4  0\n",
       "2   4.7  1.3  0\n",
       "3   4.6  1.5  0\n",
       "4   5.0  1.4  0\n",
       "..  ...  ... ..\n",
       "95  5.7  4.2  1\n",
       "96  5.7  4.2  1\n",
       "97  6.2  4.3  1\n",
       "98  5.1  3.0  1\n",
       "99  5.7  4.1  1\n",
       "\n",
       "[100 rows x 3 columns]"
      ]
     },
     "execution_count": 470,
     "metadata": {},
     "output_type": "execute_result"
    }
   ],
   "source": [
    "import matplotlib.pyplot as plt\n",
    "# dataframe for plotting purposes\n",
    "df2 = df.iloc[:,[0,2]].assign(y=y)\n",
    "df2"
   ]
  },
  {
   "cell_type": "code",
   "execution_count": 606,
   "id": "9e04c06c-12f5-4206-9ca2-478a35fb379c",
   "metadata": {
    "tags": []
   },
   "outputs": [
    {
     "data": {
      "image/png": "[encoded data removed]",
      "text/plain": [
       "<Figure size 640x480 with 1 Axes>"
      ]
     },
     "metadata": {},
     "output_type": "display_data"
    }
   ],
   "source": [
    "x1, x2, x3, x4 = df2[df2.y==0].iloc[:,0], df2[df2.y==0].iloc[:,1], df2[df2.y==1].iloc[:,0], df2[df2.y==1].iloc[:,1]\n",
    "\n",
    "plt.scatter(x1,x2,color='red', marker='o', label='Setosa')\n",
    "plt.scatter(x3,x4,color='blue', marker='s', label='Versicolor')\n",
    "plt.xlabel('Sepal length [cm]')\n",
    "plt.ylabel('Petal length [cm]')\n",
    "plt.legend(loc='upper left')\n",
    "\n",
    "plt.show()\n"
   ]
  },
  {
   "cell_type": "code",
   "execution_count": 608,
   "id": "be366894-7f8f-4780-b4c2-bfa760744451",
   "metadata": {
    "tags": []
   },
   "outputs": [],
   "source": [
    "# Standardizing our training set for faster convergence. \n",
    "X_std = X\n",
    "for i in range(X.shape[1]):\n",
    "    X_std[:,i] = (X[:,i]-X[:,i].mean())/X[:,i].std()\n"
   ]
  },
  {
   "cell_type": "code",
   "execution_count": 610,
   "id": "4473023d-6bc1-48de-a4f6-551dff0473b7",
   "metadata": {
    "tags": []
   },
   "outputs": [
    {
     "data": {
      "text/plain": [
       "[0.12763293833248818,\n",
       " 0.02656674481360946,\n",
       " 0.018768987758795607,\n",
       " 0.015391753540770133,\n",
       " 0.014057473312386652,\n",
       " 0.01335424041690732,\n",
       " 0.013013785303823721,\n",
       " 0.012688973230756179,\n",
       " 0.012615535913086012,\n",
       " 0.012804725374006667,\n",
       " 0.012716148162934022,\n",
       " 0.012715622975530843,\n",
       " 0.012724994364708588,\n",
       " 0.012726745241054226,\n",
       " 0.012608138842424212]"
      ]
     },
     "execution_count": 610,
     "metadata": {},
     "output_type": "execute_result"
    }
   ],
   "source": [
    "sgd = AdalineSGD(eta=0.01, n_iter=15,random_state=123)\n",
    "sgd.fit(X_std, y)\n",
    "sgd.losses_\n"
   ]
  },
  {
   "cell_type": "markdown",
   "id": "691bda84-067b-41ef-a6c7-4d2829604854",
   "metadata": {},
   "source": [
    "## Conclusion"
   ]
  },
  {
   "cell_type": "code",
   "execution_count": 619,
   "id": "6dd090de-f1b2-46ec-964b-4e4fdccd6f7c",
   "metadata": {
    "tags": []
   },
   "outputs": [
    {
     "data": {
      "image/png": "[encoded data removed]",
      "text/plain": [
       "<Figure size 640x480 with 1 Axes>"
      ]
     },
     "metadata": {},
     "output_type": "display_data"
    }
   ],
   "source": [
    "plt.plot(np.arange(1,len(sgd.losses_)+1),sgd.losses_,marker='o')\n",
    "plt.xlabel('Epochs')\n",
    "plt.ylabel('Mean squared error')\n",
    "plt.show()"
   ]
  },
  {
   "cell_type": "markdown",
   "id": "fbb8a8f2-7973-4f49-b651-3179185ed8a5",
   "metadata": {
    "tags": []
   },
   "source": [
    "We see that our average loss converges very quickly. "
   ]
  },
  {
   "cell_type": "code",
   "execution_count": 622,
   "id": "433dd77d-aadb-4d09-ae6f-80da6dd32983",
   "metadata": {
    "tags": []
   },
   "outputs": [
    {
     "data": {
      "text/plain": [
       "array([0, 0, 0, 0, 0, 0, 0, 0, 0, 0, 0, 0, 0, 0, 0, 0, 0, 0, 0, 0, 0, 0,\n",
       "       0, 0, 0, 0, 0, 0, 0, 0, 0, 0, 0, 0, 0, 0, 0, 0, 0, 0, 0, 0, 0, 0,\n",
       "       0, 0, 0, 0, 0, 0, 1, 1, 1, 1, 1, 1, 1, 1, 1, 1, 1, 1, 1, 1, 1, 1,\n",
       "       1, 1, 1, 1, 1, 1, 1, 1, 1, 1, 1, 1, 1, 1, 1, 1, 1, 1, 1, 1, 1, 1,\n",
       "       1, 1, 1, 1, 1, 1, 1, 1, 1, 1, 1, 1])"
      ]
     },
     "execution_count": 622,
     "metadata": {},
     "output_type": "execute_result"
    }
   ],
   "source": [
    "sgd.predict(X_std)"
   ]
  },
  {
   "cell_type": "code",
   "execution_count": 624,
   "id": "452e9903-3f95-446d-ab84-8a10c1426adb",
   "metadata": {
    "tags": []
   },
   "outputs": [
    {
     "data": {
      "text/plain": [
       "0"
      ]
     },
     "execution_count": 624,
     "metadata": {},
     "output_type": "execute_result"
    }
   ],
   "source": [
    "sum(sgd.predict(X_std)-y)"
   ]
  },
  {
   "cell_type": "markdown",
   "id": "78627a3a-e2be-46d3-a15a-106a4ae48435",
   "metadata": {
    "tags": []
   },
   "source": [
    "Therefore, we are making perfect decisions."
   ]
  }
 ],
 "metadata": {
  "kernelspec": {
   "display_name": "Python 3 (ipykernel)",
   "language": "python",
   "name": "python3"
  },
  "language_info": {
   "codemirror_mode": {
    "name": "ipython",
    "version": 3
   },
   "file_extension": ".py",
   "mimetype": "text/x-python",
   "name": "python",
   "nbconvert_exporter": "python",
   "pygments_lexer": "ipython3",
   "version": "3.9.18"
  }
 },
 "nbformat": 4,
 "nbformat_minor": 5
}
